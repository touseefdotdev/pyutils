{
 "cells": [
  {
   "cell_type": "code",
   "execution_count": 2,
   "id": "7ffc9ecf",
   "metadata": {},
   "outputs": [
    {
     "name": "stdout",
     "output_type": "stream",
     "text": [
      "Requirement already satisfied: pillow in c:\\users\\galaxy\\anaconda3\\lib\\site-packages (9.4.0)\n"
     ]
    }
   ],
   "source": [
    "!pip install pillow"
   ]
  },
  {
   "cell_type": "code",
   "execution_count": 76,
   "id": "f43ee143",
   "metadata": {},
   "outputs": [],
   "source": [
    "from PIL import Image\n",
    "import os\n",
    "import glob\n",
    "import math"
   ]
  },
  {
   "cell_type": "code",
   "execution_count": 77,
   "id": "a1428c6b",
   "metadata": {},
   "outputs": [],
   "source": [
    "THRESHOLD = 400_000 # =500KB"
   ]
  },
  {
   "cell_type": "code",
   "execution_count": 86,
   "id": "b79a8827",
   "metadata": {},
   "outputs": [],
   "source": [
    "# dir = r\"D:\\onedrive\\Pictures\\NicePicDear\"\n",
    "dir = r\"D:\\onedrive\\Pictures\\Myself\"\n",
    "# dir = input(\"Please enter images folder path:\")"
   ]
  },
  {
   "cell_type": "code",
   "execution_count": 87,
   "id": "33ecee66",
   "metadata": {},
   "outputs": [],
   "source": [
    "# files = os.listdir(dir)\n",
    "# os.stat(os.path.join(dir, files[0])).st_size"
   ]
  },
  {
   "cell_type": "code",
   "execution_count": 88,
   "id": "e7470bd8",
   "metadata": {},
   "outputs": [
    {
     "name": "stdout",
     "output_type": "stream",
     "text": [
      "17 Images found with size greater than 300.0 KB\n"
     ]
    }
   ],
   "source": [
    "# pattern_dir = os.path.join(dir, \"*.[jp][pn][gg]\") # matched jpg & png\n",
    "# print(pattern_dir)\n",
    "# image_list = [f for f in glob.glob(pattern_dir) if os.path.getsize(f) > THRESHOLD]\n",
    "# print(len(image_list))\n",
    "# image_list\n",
    "image_list = []\n",
    "file_exts = [\"png\",\"jpg\"]\n",
    "for ext in file_exts:\n",
    "    search_dir = os.path.join(dir, f\"*.{ext}\")\n",
    "    target_images = [f for f in glob.glob(search_dir) if os.path.getsize(f) > THRESHOLD]\n",
    "    image_list.extend(target_images)\n",
    "\n",
    "print(len(image_list),\"Images found with size greater than\",THRESHOLD/1000, \"KB\")"
   ]
  },
  {
   "cell_type": "code",
   "execution_count": 89,
   "id": "044d6150",
   "metadata": {},
   "outputs": [
    {
     "name": "stdout",
     "output_type": "stream",
     "text": [
      "Output folder created. D:\\onedrive\\Pictures\\Myself\\compressed_images\n"
     ]
    }
   ],
   "source": [
    "output_folder_dir = os.path.join(dir, \"compressed_images\")\n",
    "try:\n",
    "    os.mkdir(output_folder_dir)\n",
    "    print(\"Output folder created.\", output_folder_dir)\n",
    "except FileExistsError:\n",
    "    print(\"Output folder already exist.\")    "
   ]
  },
  {
   "cell_type": "code",
   "execution_count": 93,
   "id": "4ef2c4be",
   "metadata": {},
   "outputs": [],
   "source": [
    "def update_name(filepath:str)->str:\n",
    "    filename = \"_\".join(os.path.basename(filepath).split())\n",
    "    moded = filename.split(\".\")\n",
    "    moded[0] = moded[0]+\"_cmp\"\n",
    "    new_name = \".\".join(moded)\n",
    "    return new_name\n",
    "\n",
    "# Processing Each File\n",
    "for img_path in image_list:\n",
    "    with Image.open(img_path) as im:\n",
    "#         print(im.size)\n",
    "        w,h = im.size\n",
    "        r_factor = 1\n",
    "        if w > 4000:\n",
    "            r_factor = 0.5\n",
    "        elif w > 3000:\n",
    "            r_factor = 0.75\n",
    "        else:\n",
    "            r_factor = 1\n",
    "        w2,h2 = math.ceil(w*r_factor), math.ceil(h*r_factor)\n",
    "#         print(w2,h2)\n",
    "        if r_factor != 1:\n",
    "            im = im.resize((w2,h2), Image.LANCZOS)\n",
    "        output_file_path = os.path.join(output_folder_dir, update_name(img_path))\n",
    "        im.save(output_file_path, optimize=True, quality=80)"
   ]
  },
  {
   "cell_type": "code",
   "execution_count": null,
   "id": "253071e6",
   "metadata": {},
   "outputs": [],
   "source": []
  }
 ],
 "metadata": {
  "kernelspec": {
   "display_name": "Python 3 (ipykernel)",
   "language": "python",
   "name": "python3"
  },
  "language_info": {
   "codemirror_mode": {
    "name": "ipython",
    "version": 3
   },
   "file_extension": ".py",
   "mimetype": "text/x-python",
   "name": "python",
   "nbconvert_exporter": "python",
   "pygments_lexer": "ipython3",
   "version": "3.11.5"
  }
 },
 "nbformat": 4,
 "nbformat_minor": 5
}
